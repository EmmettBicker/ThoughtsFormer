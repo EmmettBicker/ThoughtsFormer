{
 "cells": [
  {
   "cell_type": "code",
   "execution_count": 2,
   "metadata": {},
   "outputs": [],
   "source": [
    "from thoughtsformer_env import ThoughtsFormerEnv\n",
    "from thoughtsformer_policy import ThoughtsFormerPolicy\n",
    "from token_level_ppo import TokenLevelPPO"
   ]
  },
  {
   "cell_type": "code",
   "execution_count": null,
   "metadata": {},
   "outputs": [],
   "source": [
    "n_thoughts = 3\n",
    "seq_len = 1024 // (n_thoughts+1)\n",
    "\n",
    "env = ThoughtsFormerEnv(vocab_size=50257, max_sequence_length=seq_len,max_thought_length=n_thoughts)\n",
    "policy_kwargs = {\n",
    "    \"max_thought_len\" : n_thoughts,\n",
    "    \"from_gpt2\" : True\n",
    "}\n",
    "ppo = TokenLevelPPO(ThoughtsFormerPolicy, env, n_steps=128, batch_size=16, max_sequence_length=seq_len, verbose=2, ent_coef=0.001, policy_kwargs=policy_kwargs)\n",
    "\n",
    "ppo.learn(5000)"
   ]
  },
  {
   "cell_type": "code",
   "execution_count": null,
   "metadata": {},
   "outputs": [],
   "source": []
  }
 ],
 "metadata": {
  "kernelspec": {
   "display_name": "megatron",
   "language": "python",
   "name": "python3"
  },
  "language_info": {
   "codemirror_mode": {
    "name": "ipython",
    "version": 3
   },
   "file_extension": ".py",
   "mimetype": "text/x-python",
   "name": "python",
   "nbconvert_exporter": "python",
   "pygments_lexer": "ipython3",
   "version": "3.12.5"
  }
 },
 "nbformat": 4,
 "nbformat_minor": 2
}
