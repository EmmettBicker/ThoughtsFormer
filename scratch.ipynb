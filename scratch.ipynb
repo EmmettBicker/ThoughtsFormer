{
 "cells": [
  {
   "cell_type": "code",
   "execution_count": 8,
   "metadata": {},
   "outputs": [],
   "source": [
    "import torch\n",
    "import matplotlib.pyplot as plt\n",
    "\n",
    "def generate_thoughtsformer_mask(self, sz: int, thoughts_taken: int) -> torch.Tensor:\n",
    "    t = thoughts_taken + 1\n",
    "    def create_vertical_lines(size, spacing):\n",
    "        indices = torch.arange(size)\n",
    "        pattern = (indices % spacing != 0).float()\n",
    "        lines = pattern.expand(size, -1)\n",
    "        return lines\n",
    "\n",
    "    lines = create_vertical_lines(sz, t).bool()\n",
    "    blocks = ~torch.block_diag(*torch.ones(sz//t+1, t, t)).bool()[0:sz, 0:sz]\n",
    "    line_blocks = torch.bitwise_and(lines, blocks)\n",
    "    mask = line_blocks\n",
    "\n",
    "    return mask\n",
    "\n",
    "\n"
   ]
  },
  {
   "cell_type": "code",
   "execution_count": 9,
   "metadata": {},
   "outputs": [
    {
     "data": {
      "text/plain": [
       "<matplotlib.image.AxesImage at 0x2005b51c1d0>"
      ]
     },
     "execution_count": 9,
     "metadata": {},
     "output_type": "execute_result"
    },
    {
     "data": {
      "image/png": "[encoded data removed]",
      "text/plain": [
       "<Figure size 640x480 with 1 Axes>"
      ]
     },
     "metadata": {},
     "output_type": "display_data"
    }
   ],
   "source": [
    "mk = generate_thoughtsformer_mask(0, 10, 2)\n",
    "plt.imshow(mk)"
   ]
  },
  {
   "cell_type": "code",
   "execution_count": null,
   "metadata": {},
   "outputs": [],
   "source": []
  }
 ],
 "metadata": {
  "kernelspec": {
   "display_name": "thoughtsformer",
   "language": "python",
   "name": "python3"
  },
  "language_info": {
   "codemirror_mode": {
    "name": "ipython",
    "version": 3
   },
   "file_extension": ".py",
   "mimetype": "text/x-python",
   "name": "python",
   "nbconvert_exporter": "python",
   "pygments_lexer": "ipython3",
   "version": "3.12.7"
  }
 },
 "nbformat": 4,
 "nbformat_minor": 2
}
