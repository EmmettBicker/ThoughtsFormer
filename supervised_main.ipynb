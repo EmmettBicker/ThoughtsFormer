{
 "cells": [
  {
   "cell_type": "markdown",
   "metadata": {},
   "source": [
    "## Main Method for Supervised Learning\n",
    "Trained with BPTT. Intermediate tokens are generated embeddings."
   ]
  },
  {
   "cell_type": "code",
   "execution_count": null,
   "metadata": {},
   "outputs": [],
   "source": [
    "import torch\n",
    "import torch.optim\n",
    "import torch.nn as nn\n",
    "import torch.nn.functional as F\n",
    "from torch.utils.data import Dataset, DataLoader, random_split\n",
    "\n",
    "import matplotlib.pyplot as plt\n",
    "from thoughtsformer import ThoughtsFormer\n",
    "from tiny_shakespeare import TinyShakespeareDataset\n",
    "from transformers import GPT2Tokenizer, GPT2Model, GPT2LMHeadModel"
   ]
  },
  {
   "cell_type": "code",
   "execution_count": null,
   "metadata": {},
   "outputs": [],
   "source": [
    "device = torch.device(\"cuda\" if torch.cuda.is_available() else \"cpu\")"
   ]
  },
  {
   "cell_type": "code",
   "execution_count": null,
   "metadata": {},
   "outputs": [],
   "source": [
    "dataset = TinyShakespeareDataset(512,64)\n",
    "train_size = int(0.8 * len(dataset))  # 80% for training\n",
    "test_size = len(dataset) - train_size  # 20% for testing\n",
    "\n",
    "# Split the dataset into training and testing sets\n",
    "train_dataset, test_dataset = random_split(dataset, [train_size, test_size])\n",
    "\n",
    "train_loader = DataLoader(train_dataset, batch_size=8, shuffle=True)\n",
    "test_loader = DataLoader(test_dataset, batch_size=8, shuffle=False)"
   ]
  },
  {
   "cell_type": "code",
   "execution_count": null,
   "metadata": {},
   "outputs": [],
   "source": [
    "thoughtsformer = ThoughtsFormer.from_pretrained_GPT2(1, reinforcement_learning=False).to(device)\n",
    "thoughtsformer.train()"
   ]
  },
  {
   "cell_type": "code",
   "execution_count": null,
   "metadata": {},
   "outputs": [],
   "source": [
    "vocab_size = 50257  # GPT-2 tokenizer vocabulary size\n",
    "d_embed = 768  # Embedding dimension\n",
    "epochs = 30\n",
    "sequence_length = 256\n",
    "\n",
    "# thoughtsformer.load_state_dict(torch.load(r'/content/drive/MyDrive/Machine Learning/gpt2_starting_thoughtsformer.pth'))\n",
    "\n",
    "loss_fn = F.cross_entropy\n",
    "thought_optim = torch.optim.Adam(params=thoughtsformer.parameters(), lr=0.0003)\n",
    "\n",
    "\n",
    "# Assume your train_loader provides input tensors of shape [batch_size, 1000, d_embed]\n",
    "loss_over_time = []\n",
    "test_loss_over_time = []\n",
    "\n",
    "for epoch in range(epochs):\n",
    "    thoughtsformer.train()\n",
    "    for idx, (tokens, labels) in enumerate(train_loader):\n",
    "        batch_size, sequence_length = tokens.shape\n",
    "\n",
    "\n",
    "        # Create padding mask (no padding here, but adding for future flexibility)\n",
    "        padding_mask = torch.zeros(batch_size, sequence_length).to(device) # additional padding is done internally\n",
    "\n",
    "        tokens = tokens.to(device)\n",
    "        # Forward pass through the model\n",
    "        thoughts_logits = thoughtsformer(tokens, padding_mask)\n",
    "        # print(thoughts_logits.shape)\n",
    "        thoughts_loss = loss_fn(thoughts_logits.permute(0, 2, 1), labels.to(device))\n",
    "        loss_over_time.append(thoughts_loss.item())\n",
    "\n",
    "\n",
    "\n",
    "        thought_optim.zero_grad()\n",
    "        thoughts_loss.backward()\n",
    "        thought_optim.step()\n",
    "\n",
    "        print(f\"Thoughtsformer Train Loss at batch {idx}, epoch {epoch}: {thoughts_loss.item()}\")\n",
    "\n",
    "    # Validate the model on the test set after each epoch\n",
    "    thoughtsformer.eval()  # Set model to evaluation mode\n",
    "    test_loss = 0\n",
    "    with torch.no_grad():  # Disable gradient calculation\n",
    "        for idx, (tokens, labels) in enumerate(test_loader):\n",
    "            batch_size, sequence_length = tokens.shape\n",
    "\n",
    "\n",
    "            # Create padding mask (no padding here, but adding for future flexibility)\n",
    "            padding_mask = torch.zeros(batch_size, sequence_length).to(device) # additional padding is done internally\n",
    "\n",
    "            # Forward pass through the model\n",
    "            thoughts_logits = thoughtsformer(tokens.to(device), padding_mask.to(device))\n",
    "\n",
    "            loss = loss_fn(thoughts_logits.permute(0, 2, 1), labels.to(device))\n",
    "\n",
    "            test_loss += loss.item()\n",
    "\n",
    "    avg_test_loss = test_loss / len(test_loader)\n",
    "    test_loss_over_time.append(avg_test_loss)\n",
    "    print(f\"Test Loss after epoch {epoch}: {avg_test_loss}\")\n"
   ]
  }
 ],
 "metadata": {
  "kernelspec": {
   "display_name": "thoughtsformer",
   "language": "python",
   "name": "python3"
  },
  "language_info": {
   "name": "python",
   "version": "3.12.7"
  }
 },
 "nbformat": 4,
 "nbformat_minor": 2
}
